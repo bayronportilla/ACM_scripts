{
 "cells": [
  {
   "cell_type": "markdown",
   "metadata": {},
   "source": [
    "# For computing the inclination function value as defined in Murray & Dermott eq (6.37)"
   ]
  },
  {
   "cell_type": "code",
   "execution_count": 38,
   "metadata": {
    "collapsed": false
   },
   "outputs": [],
   "source": [
    "import numpy as np\n",
    "import matplotlib.pyplot as plt\n",
    "from scipy.special import binom\n",
    "from scipy.special import factorial as fact"
   ]
  },
  {
   "cell_type": "code",
   "execution_count": 47,
   "metadata": {
    "collapsed": false
   },
   "outputs": [],
   "source": [
    "def my_binom(n,k):\n",
    "    if n>=0:\n",
    "        value = binom(n,k)\n",
    "    elif n<0:\n",
    "        if k>=0:\n",
    "            value = (-1)**k * binom(-n+k-1,k)\n",
    "        elif k<=n:\n",
    "            value = (-1)**(n-k) * binom(-k-1,n-k)\n",
    "        else:\n",
    "            value = 0\n",
    "    return value"
   ]
  },
  {
   "cell_type": "code",
   "execution_count": 58,
   "metadata": {
    "collapsed": false
   },
   "outputs": [],
   "source": [
    "def F(l,m,p,inc):\n",
    "    factor1 = 1j**(l-m)*fact(l+m)/(2**l*fact(p)*fact(l-p))\n",
    "    k_min = max(0,l-m-2*p)\n",
    "    k_max = min(l-m,2*l-2*p)\n",
    "    suma = 0\n",
    "    for k in range(k_min,k_max+1):\n",
    "        factor_trigonometrico = np.cos(0.5*inc)**(3*l-m-2*p-2*k)*np.sin(0.5*inc)**(m-l+2*p+2*k)\n",
    "        suma+=(-1)**k*my_binom(2*(l-p),k)*my_binom(2*p,l-m-k)*factor_trigonometrico\n",
    "    value = factor1*suma\n",
    "    return value"
   ]
  },
  {
   "cell_type": "code",
   "execution_count": 61,
   "metadata": {
    "collapsed": false
   },
   "outputs": [
    {
     "name": "stdout",
     "output_type": "stream",
     "text": [
      "0j\n"
     ]
    }
   ],
   "source": [
    "print(F(5,5,5,0))"
   ]
  },
  {
   "cell_type": "code",
   "execution_count": null,
   "metadata": {
    "collapsed": true
   },
   "outputs": [],
   "source": []
  }
 ],
 "metadata": {
  "kernelspec": {
   "display_name": "Python 3",
   "language": "python",
   "name": "python3"
  },
  "language_info": {
   "codemirror_mode": {
    "name": "ipython",
    "version": 3
   },
   "file_extension": ".py",
   "mimetype": "text/x-python",
   "name": "python",
   "nbconvert_exporter": "python",
   "pygments_lexer": "ipython3",
   "version": "3.6.0"
  }
 },
 "nbformat": 4,
 "nbformat_minor": 2
}
